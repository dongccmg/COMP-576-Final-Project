{
  "cells": [
    {
      "cell_type": "code",
      "execution_count": null,
      "metadata": {
        "id": "Aopqq_qoceM3"
      },
      "outputs": [],
      "source": [
        "\n"
      ]
    },
    {
      "cell_type": "code",
      "execution_count": null,
      "metadata": {
        "id": "rRMAGDeIdEFD"
      },
      "outputs": [],
      "source": [
        "import numpy as np\n",
        "from tensorflow import keras\n",
        "import csv\n",
        "import random\n",
        "from matplotlib import pyplot as plt\n",
        "\n",
        "\n",
        "# data augment\n",
        "def rotation(array, angle):\n",
        "    X = np.rot90(array, angle[0], axes=(0, 1))  # rotate in X-axis\n",
        "    Y = np.rot90(X, angle[1], axes=(0, 2))  # rotate in Y'-axis\n",
        "    Z = np.rot90(Y, angle[2], axes=(1, 2))  # rotate in Z\"-axis\n",
        "    return Z\n",
        "\n",
        "\n",
        "def reflection(array, axis):\n",
        "    if axis != -1:\n",
        "        ref = np.flip(array, axis)\n",
        "    else:\n",
        "        ref = np.copy(array)\n",
        "    return ref\n",
        "\n",
        "\n",
        "def augment(x_train, y_train):\n",
        "    print(np.size(x_train, 0))\n",
        "    for i in range(0, np.size(x_train, 0)):\n",
        "        angle = (random.randint(0, 3), random.randint(0, 3), random.randint(0, 3))\n",
        "        rotated_data = rotation(x_train[i], angle)\n",
        "        axis = random.randint(-1, 2)\n",
        "        flipped_data = reflection(x_train[i], axis)\n",
        "        # for j in range(0, 32, 2):\n",
        "        #     plt.figure()\n",
        "        #     plt.subplot(1, 3, 1)\n",
        "        #     plt.imshow(rotated_data[j])\n",
        "        #     plt.subplot(1, 3, 2)\n",
        "        #     plt.imshow(flipped_data[j])\n",
        "        #     plt.subplot(1, 3, 3)\n",
        "        #     plt.imshow(x_train[i][j])\n",
        "        #     plt.show()\n",
        "        x_train = np.append(x_train, np.expand_dims(rotated_data, axis=0), axis=0)\n",
        "        x_train = np.append(x_train, np.expand_dims(flipped_data, axis=0), axis=0)\n",
        "        y_train = np.append(y_train, np.expand_dims(y_train[i], axis=0), axis=0)\n",
        "        y_train = np.append(y_train, np.expand_dims(y_train[i], axis=0), axis=0)\n",
        "    return x_train, y_train\n",
        "\n",
        "\n",
        "def load_label():\n",
        "    path = 'drive/MyDrive/dataset2/train_val.csv'\n",
        "    y_train = np.loadtxt(path, int, delimiter=\",\", skiprows=1, usecols=1)\n",
        "    print('Labels loaded')\n",
        "    return y_train\n",
        "\n",
        "import pandas as pd\n",
        "\n",
        "# load feature original=1->返回增强的数据\n",
        "def load_data(aug=False):\n",
        "    focus = 16\n",
        "    x_train = np.ones((365, 2 * focus, 2 * focus, 2 * focus))\n",
        "    j = 0\n",
        "    candidates = pd.read_csv('drive/MyDrive/dataset2/train_val.csv')['name']\n",
        "    for c in candidates:\n",
        "      a = 'drive/MyDrive/dataset2/train_val/' + c + '.npz'\n",
        "      tmp = np.load(a)\n",
        "      voxel = tmp['voxel']\n",
        "      seg = tmp['seg']\n",
        "      x_train[j] = (voxel * seg)[50 - focus:50 + focus, 50 - focus:50 + focus, 50 - focus:50 + focus]\n",
        "      j = j + 1\n",
        "    # for i in range(0, 480):\n",
        "    #     a = 'drive/MyDrive/dataset2/train_val/candidate' + str(i) + '.npz'\n",
        "    #     try:\n",
        "    #         tmp = np.load(a)\n",
        "    #         voxel = tmp['voxel']\n",
        "    #         seg = tmp['seg']\n",
        "    #         x_train[j] = (voxel * seg)[50 - focus:50 + focus, 50 - focus:50 + focus, 50 - focus:50 + focus]\n",
        "    #         j = j + 1\n",
        "    #     except:\n",
        "    #         continue\n",
        "    y_train = load_label()\n",
        "    if aug is False:\n",
        "        x_train = x_train.reshape(x_train.shape[0], 2 * focus, 2 * focus, 2 * focus, 1)\n",
        "        y_train = keras.utils.to_categorical(y_train, 2)\n",
        "        return x_train, y_train\n",
        "    x_train, y_train = augment(x_train, y_train)\n",
        "    x_train, y_train = mix_up(x_train, y_train)\n",
        "    x_train = x_train.reshape(x_train.shape[0], 2 * focus, 2 * focus, 2 * focus, 1)\n",
        "    y_train = keras.utils.to_categorical(y_train, 2)\n",
        "    return x_train, y_train\n",
        "\n",
        "\n",
        "def mix_up(x_train, y_train, increment=400):\n",
        "    t = 0.5\n",
        "    x = np.ones((increment, 32, 32, 32))\n",
        "    y = np.ones(increment)\n",
        "    i = 0\n",
        "    size = np.size(x_train, 0)\n",
        "    while i < increment:\n",
        "        m = random.randint(0, size - 1)\n",
        "        n = random.randint(0, size - 1)\n",
        "        if y_train[m] == y_train[n]:\n",
        "            x[i] = (t * x_train[m] + (1 - t) * x_train[n]).copy()\n",
        "            y[i] = (t * y_train[m] + (1 - t) * y_train[n]).copy()\n",
        "            i = i + 1\n",
        "    # i = 0\n",
        "    # for j in range(0, 32, 2):\n",
        "    #     plt.figure()\n",
        "    #     plt.subplot(1, 2, 1)\n",
        "    #     plt.imshow(x[i][j])\n",
        "    #     plt.subplot(1, 2, 2)\n",
        "    #     plt.imshow(x_train[i][j])\n",
        "    #     plt.show()\n",
        "    final_x = np.append(x_train, x, axis=0)\n",
        "    final_y = np.append(y_train, y)\n",
        "    return final_x, final_y\n"
      ]
    },
    {
      "cell_type": "code",
      "execution_count": null,
      "metadata": {
        "colab": {
          "base_uri": "https://localhost:8080/"
        },
        "id": "juYI7qNldiH-",
        "outputId": "3fcc7209-693c-4c06-c306-57527966dfad"
      },
      "outputs": [
        {
          "output_type": "stream",
          "name": "stdout",
          "text": [
            "Mounted at /content/drive\n"
          ]
        }
      ],
      "source": [
        "from google.colab import drive\n",
        "drive.mount('/content/drive')"
      ]
    },
    {
      "cell_type": "code",
      "source": [],
      "metadata": {
        "id": "vcSZpOEhkS7K"
      },
      "execution_count": null,
      "outputs": []
    },
    {
      "cell_type": "code",
      "execution_count": null,
      "metadata": {
        "colab": {
          "base_uri": "https://localhost:8080/"
        },
        "id": "HfDKh_87c9ku",
        "outputId": "f95e41de-d2a9-43e8-ed02-25dbcb7970ef"
      },
      "outputs": [
        {
          "output_type": "stream",
          "name": "stdout",
          "text": [
            "Labels loaded\n",
            "365\n",
            "Labels loaded\n",
            "(1495, 32, 32, 32, 1) (1495, 2)\n",
            "(365, 32, 32, 32, 1) (365, 2)\n",
            "Model: \"sequential\"\n",
            "_________________________________________________________________\n",
            " Layer (type)                Output Shape              Param #   \n",
            "=================================================================\n",
            " conv3d (Conv3D)             (None, 30, 30, 30, 32)    896       \n",
            "                                                                 \n",
            " conv3d_1 (Conv3D)           (None, 28, 28, 28, 32)    27680     \n",
            "                                                                 \n",
            " max_pooling3d (MaxPooling3D  (None, 14, 14, 14, 32)   0         \n",
            " )                                                               \n",
            "                                                                 \n",
            " conv3d_2 (Conv3D)           (None, 12, 12, 12, 64)    55360     \n",
            "                                                                 \n",
            " conv3d_3 (Conv3D)           (None, 11, 11, 11, 64)    32832     \n",
            "                                                                 \n",
            " max_pooling3d_1 (MaxPooling  (None, 5, 5, 5, 64)      0         \n",
            " 3D)                                                             \n",
            "                                                                 \n",
            " dropout (Dropout)           (None, 5, 5, 5, 64)       0         \n",
            "                                                                 \n",
            " flatten (Flatten)           (None, 8000)              0         \n",
            "                                                                 \n",
            " dense (Dense)               (None, 256)               2048256   \n",
            "                                                                 \n",
            " dropout_1 (Dropout)         (None, 256)               0         \n",
            "                                                                 \n",
            " dense_1 (Dense)             (None, 128)               32896     \n",
            "                                                                 \n",
            " dropout_2 (Dropout)         (None, 128)               0         \n",
            "                                                                 \n",
            " dense_2 (Dense)             (None, 2)                 258       \n",
            "                                                                 \n",
            "=================================================================\n",
            "Total params: 2,198,178\n",
            "Trainable params: 2,198,178\n",
            "Non-trainable params: 0\n",
            "_________________________________________________________________\n",
            "Epoch 1/30\n",
            "47/47 [==============================] - 14s 107ms/step - loss: 2.3470 - categorical_accuracy: 0.5351 - val_loss: 0.6639 - val_categorical_accuracy: 0.5918\n",
            "Epoch 2/30\n",
            "47/47 [==============================] - 4s 87ms/step - loss: 0.6805 - categorical_accuracy: 0.5779 - val_loss: 0.6514 - val_categorical_accuracy: 0.6274\n",
            "Epoch 3/30\n",
            "47/47 [==============================] - 4s 87ms/step - loss: 0.6666 - categorical_accuracy: 0.6140 - val_loss: 0.6351 - val_categorical_accuracy: 0.6767\n",
            "Epoch 4/30\n",
            "47/47 [==============================] - 4s 87ms/step - loss: 0.6513 - categorical_accuracy: 0.6388 - val_loss: 0.6458 - val_categorical_accuracy: 0.6712\n",
            "Epoch 5/30\n",
            "47/47 [==============================] - 4s 87ms/step - loss: 0.6607 - categorical_accuracy: 0.6301 - val_loss: 0.6334 - val_categorical_accuracy: 0.6685\n",
            "Epoch 6/30\n",
            "47/47 [==============================] - 4s 88ms/step - loss: 0.6610 - categorical_accuracy: 0.6428 - val_loss: 0.6140 - val_categorical_accuracy: 0.6795\n",
            "Epoch 7/30\n",
            "47/47 [==============================] - 4s 88ms/step - loss: 0.6480 - categorical_accuracy: 0.6575 - val_loss: 0.6059 - val_categorical_accuracy: 0.6932\n",
            "Epoch 8/30\n",
            "47/47 [==============================] - 4s 88ms/step - loss: 0.6359 - categorical_accuracy: 0.6676 - val_loss: 0.5953 - val_categorical_accuracy: 0.7014\n",
            "Epoch 9/30\n",
            "47/47 [==============================] - 4s 88ms/step - loss: 0.6277 - categorical_accuracy: 0.6863 - val_loss: 0.5901 - val_categorical_accuracy: 0.6959\n",
            "Epoch 10/30\n",
            "47/47 [==============================] - 4s 90ms/step - loss: 0.6160 - categorical_accuracy: 0.6829 - val_loss: 0.5672 - val_categorical_accuracy: 0.7178\n",
            "Epoch 11/30\n",
            "47/47 [==============================] - 4s 89ms/step - loss: 0.6106 - categorical_accuracy: 0.6836 - val_loss: 0.5510 - val_categorical_accuracy: 0.7370\n",
            "Epoch 12/30\n",
            "47/47 [==============================] - 4s 89ms/step - loss: 0.5744 - categorical_accuracy: 0.7090 - val_loss: 0.5514 - val_categorical_accuracy: 0.7589\n",
            "Epoch 13/30\n",
            "47/47 [==============================] - 4s 90ms/step - loss: 0.5858 - categorical_accuracy: 0.6983 - val_loss: 0.6034 - val_categorical_accuracy: 0.7041\n",
            "Epoch 14/30\n",
            "47/47 [==============================] - 4s 91ms/step - loss: 0.5828 - categorical_accuracy: 0.7278 - val_loss: 0.4739 - val_categorical_accuracy: 0.7726\n",
            "Epoch 15/30\n",
            "47/47 [==============================] - 4s 90ms/step - loss: 0.5597 - categorical_accuracy: 0.7231 - val_loss: 0.4653 - val_categorical_accuracy: 0.7863\n",
            "Epoch 16/30\n",
            "47/47 [==============================] - 4s 91ms/step - loss: 0.5556 - categorical_accuracy: 0.7258 - val_loss: 0.4710 - val_categorical_accuracy: 0.7863\n",
            "Epoch 17/30\n",
            "47/47 [==============================] - 4s 92ms/step - loss: 0.5154 - categorical_accuracy: 0.7525 - val_loss: 0.4042 - val_categorical_accuracy: 0.8110\n",
            "Epoch 18/30\n",
            "47/47 [==============================] - 4s 92ms/step - loss: 0.4756 - categorical_accuracy: 0.7719 - val_loss: 0.3727 - val_categorical_accuracy: 0.8384\n",
            "Epoch 19/30\n",
            "47/47 [==============================] - 4s 92ms/step - loss: 0.5004 - categorical_accuracy: 0.7686 - val_loss: 0.3613 - val_categorical_accuracy: 0.8548\n",
            "Epoch 20/30\n",
            "47/47 [==============================] - 4s 92ms/step - loss: 0.4819 - categorical_accuracy: 0.7686 - val_loss: 0.3553 - val_categorical_accuracy: 0.8521\n",
            "Epoch 21/30\n",
            "47/47 [==============================] - 4s 93ms/step - loss: 0.4281 - categorical_accuracy: 0.7967 - val_loss: 0.2924 - val_categorical_accuracy: 0.8877\n",
            "Epoch 22/30\n",
            "47/47 [==============================] - 4s 91ms/step - loss: 0.4280 - categorical_accuracy: 0.8067 - val_loss: 0.2854 - val_categorical_accuracy: 0.8932\n",
            "Epoch 23/30\n",
            "47/47 [==============================] - 4s 91ms/step - loss: 0.4523 - categorical_accuracy: 0.7987 - val_loss: 0.2839 - val_categorical_accuracy: 0.9014\n",
            "Epoch 24/30\n",
            "47/47 [==============================] - 4s 92ms/step - loss: 0.4276 - categorical_accuracy: 0.8027 - val_loss: 0.2568 - val_categorical_accuracy: 0.8877\n",
            "Epoch 25/30\n",
            "47/47 [==============================] - 4s 90ms/step - loss: 0.3675 - categorical_accuracy: 0.8441 - val_loss: 0.2263 - val_categorical_accuracy: 0.9370\n",
            "Epoch 26/30\n",
            "47/47 [==============================] - 4s 90ms/step - loss: 0.3385 - categorical_accuracy: 0.8602 - val_loss: 0.1835 - val_categorical_accuracy: 0.9178\n",
            "Epoch 27/30\n",
            "47/47 [==============================] - 4s 90ms/step - loss: 0.3572 - categorical_accuracy: 0.8629 - val_loss: 0.1627 - val_categorical_accuracy: 0.9507\n",
            "Epoch 28/30\n",
            "47/47 [==============================] - 4s 90ms/step - loss: 0.3382 - categorical_accuracy: 0.8602 - val_loss: 0.1959 - val_categorical_accuracy: 0.9096\n",
            "Epoch 29/30\n",
            "47/47 [==============================] - 4s 89ms/step - loss: 0.3605 - categorical_accuracy: 0.8415 - val_loss: 0.1997 - val_categorical_accuracy: 0.9151\n",
            "Epoch 30/30\n",
            "47/47 [==============================] - 4s 91ms/step - loss: 0.3234 - categorical_accuracy: 0.8548 - val_loss: 0.1610 - val_categorical_accuracy: 0.9479\n"
          ]
        }
      ],
      "source": [
        "import numpy as np \n",
        "import h5py\n",
        "from tensorflow.keras.utils import to_categorical\n",
        "from tensorflow.keras import layers\n",
        "from tensorflow.keras.models import Sequential\n",
        "from tensorflow.keras.initializers import Constant\n",
        "from tensorflow.keras.optimizers import Adam\n",
        "from tensorflow.keras.callbacks import EarlyStopping\n",
        "import os\n",
        "\n",
        "# os.environ[\"CUDA_VISIBLE_DEVICES\"] = \"0\"\n",
        "\n",
        "NUM_CLASSES = 2\n",
        "batch_size = 16\n",
        "epoch = 30\n",
        "\n",
        "x_train, y_train = load_data(True)\n",
        "x_val, y_val = load_data()\n",
        "print(x_train.shape, y_train.shape)\n",
        "print(x_val.shape, y_val.shape)\n",
        "\n",
        "# \n",
        "\n",
        "model = Sequential()\n",
        "model.add(layers.Conv3D(32,(3,3,3),activation='relu',input_shape=(32,32,32,1),bias_initializer=Constant(0.01)))\n",
        "model.add(layers.Conv3D(32,(3,3,3),activation='relu',bias_initializer=Constant(0.01)))\n",
        "model.add(layers.MaxPooling3D((2,2,2)))\n",
        "model.add(layers.Conv3D(64,(3,3,3),activation='relu'))\n",
        "model.add(layers.Conv3D(64,(2,2,2),activation='relu'))\n",
        "model.add(layers.MaxPooling3D((2,2,2)))\n",
        "model.add(layers.Dropout(0.6))\n",
        "model.add(layers.Flatten())\n",
        "model.add(layers.Dense(256,'relu'))\n",
        "model.add(layers.Dropout(0.7))\n",
        "model.add(layers.Dense(128,'relu'))\n",
        "model.add(layers.Dropout(0.5))\n",
        "model.add(layers.Dense(2,'softmax'))\n",
        "model.summary()\n",
        "\n",
        "model.compile(Adam(0.001),'categorical_crossentropy',['categorical_accuracy'])\n",
        "history = model.fit(x_train,y_train,epochs=30,batch_size=32,verbose=1,validation_data=(x_val,y_val),callbacks=[EarlyStopping(patience=15)])\n",
        "\n"
      ]
    },
    {
      "cell_type": "code",
      "source": [
        "import matplotlib.pyplot as plt\n",
        "plt.plot(history.history['categorical_accuracy'])"
      ],
      "metadata": {
        "id": "XvYqCQQy4H4l",
        "colab": {
          "base_uri": "https://localhost:8080/",
          "height": 282
        },
        "outputId": "3503aad0-744b-4d00-b727-d80aa413001f"
      },
      "execution_count": null,
      "outputs": [
        {
          "output_type": "execute_result",
          "data": {
            "text/plain": [
              "[<matplotlib.lines.Line2D at 0x7fa9e44b2ca0>]"
            ]
          },
          "metadata": {},
          "execution_count": 4
        },
        {
          "output_type": "display_data",
          "data": {
            "text/plain": [
              "<Figure size 432x288 with 1 Axes>"
            ],
            "image/png": "[encoded data removed]"
          },
          "metadata": {
            "needs_background": "light"
          }
        }
      ]
    },
    {
      "cell_type": "code",
      "source": [
        "from pandas.io.parsers.python_parser import parser_defaults\n",
        "import os\n",
        "import numpy as np\n",
        "# from mylib.densenet import get_compiled\n",
        "import tensorflow as tf\n",
        "import os\n",
        "import pandas as pd\n",
        "import sklearn.metrics\n",
        "\n",
        "batch_size = 32\n",
        "TEST_PATH = \"drive/MyDrive/dataset2/test\"\n",
        "SUBMISSION_CSV = \"drive/MyDrive/dataset2/result.csv\"\n",
        "TRAIN_CSV = \"drive/MyDrive/dataset2/train_val.csv\"\n",
        "\n",
        "def load_test():\n",
        "    x_test = np.ones((100, 32, 32, 32))\n",
        "    i = 0\n",
        "    path = TEST_PATH  \n",
        "    path_list = os.listdir(path)\n",
        "    path_list.sort()  \n",
        "    for filename in path_list:\n",
        "        tmp = np.load(os.path.join(path, filename))\n",
        "        voxel = tmp['voxel']\n",
        "        seg = tmp['seg']\n",
        "        x_test[i] = (voxel * seg)[50 - 16:50 + 16, 50 - 16:50 + 16, 50 - 16:50 + 16]\n",
        "        i = i + 1\n",
        "    x_test = x_test.reshape(x_test.shape[0], 32, 32, 32, 1)\n",
        "    return x_test\n",
        "\n",
        "def save_sub(input_list):\n",
        "  candidates = list()\n",
        "  for c in os.listdir(TEST_PATH):\n",
        "    candidates.append(c.split(\".\")[0])\n",
        "  candidates.sort()\n",
        "  data = {\"name\": candidates, \"label\": input_list[:, 1]}\n",
        "  df = pd.DataFrame(data)\n",
        "  df.to_csv(SUBMISSION_CSV)\n",
        "  print('File saved')\n",
        "\n",
        "x_test = load_test()\n",
        "\n",
        "_, acc = model.evaluate(x_train, y_train)\n",
        "print('training accuracy:', str(round(acc*100, 2))+'%')\n",
        "true_labels = pd.read_csv('drive/MyDrive/dataset2/test_val.csv')['label']\n",
        "print(list(true_labels))\n",
        "# _, acc = model.evaluate(x_test, list(true_labels))\n",
        "# print('testing accuracy:', str(round(acc*100, 2))+'%')\n",
        "\n",
        "\n",
        "predicted_labels = model.predict(x_test, batch_size, verbose=1)[:, 1]\n",
        "score = sklearn.metrics.roc_auc_score(true_labels, predicted_labels)\n",
        "print(score)\n",
        "# model.predict_prob(img)\n",
        "\n",
        "# for i in range(10, 30):\n",
        "#     model_path = 'drive/MyDrive/tmp/weights0621.' + str(i) + '.h5'\n",
        "#     model.load_weights(model_path)\n",
        "#     res = model.predict(x_test, batch_size, verbose=1)\n",
        "\n",
        "#     save_sub(res)\n",
        "#     file = pd.read_csv(SUBMISSION_CSV)\n",
        "    \n",
        "#     predicted_labels = file['label']\n",
        "#     true_labels = pd.read_csv('drive/MyDrive/dataset2/test_val.csv')['label']\n",
        "#     print(true_labels)\n",
        "#     score = sklearn.metrics.roc_auc_score(true_labels, predicted_labels)\n",
        "#     score_map[i] = score\n",
        "\n",
        "# print(score_map)\n",
        "# print(history.history.keys())\n",
        "\n",
        "\n",
        "\n",
        "\n",
        "\n"
      ],
      "metadata": {
        "colab": {
          "base_uri": "https://localhost:8080/"
        },
        "id": "qOLSB7s0Ya3e",
        "outputId": "44afb957-d8bb-4cc4-a0b1-fe0bf02effcd"
      },
      "execution_count": null,
      "outputs": [
        {
          "output_type": "stream",
          "name": "stdout",
          "text": [
            "47/47 [==============================] - 1s 24ms/step - loss: 0.1760 - categorical_accuracy: 0.9431\n",
            "training accuracy: 94.31%\n",
            "[0, 0, 0, 1, 0, 1, 1, 1, 1, 0, 1, 0, 1, 1, 0, 1, 0, 0, 1, 0, 0, 0, 0, 0, 0, 0, 1, 1, 0, 0, 0, 1, 1, 1, 0, 0, 1, 1, 0, 1, 1, 1, 1, 1, 1, 0, 1, 1, 0, 0, 1, 0, 0, 1, 0, 1, 1, 0, 0, 1, 1, 0, 0, 1, 0, 1, 0, 1, 1, 0, 1, 0, 1, 0, 1, 0, 1, 0, 0, 0, 1, 0, 0, 0, 1, 1, 1, 1, 0, 0, 1, 0, 1, 1, 0, 1, 0, 1, 1, 0]\n",
            "4/4 [==============================] - 0s 36ms/step\n",
            "0.5968\n"
          ]
        }
      ]
    },
    {
      "cell_type": "code",
      "source": [
        "\n"
      ],
      "metadata": {
        "id": "XbQrAOc4fuje"
      },
      "execution_count": null,
      "outputs": []
    }
  ],
  "metadata": {
    "colab": {
      "provenance": []
    },
    "kernelspec": {
      "display_name": "Python 3",
      "name": "python3"
    },
    "language_info": {
      "name": "python"
    },
    "accelerator": "GPU",
    "gpuClass": "standard"
  },
  "nbformat": 4,
  "nbformat_minor": 0
}